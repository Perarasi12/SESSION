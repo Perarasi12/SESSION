{
  "nbformat": 4,
  "nbformat_minor": 0,
  "metadata": {
    "colab": {
      "name": "Final_Workout_swathish2000@gmail.com.ipynb",
      "provenance": [],
      "collapsed_sections": []
    },
    "kernelspec": {
      "name": "python3",
      "display_name": "Python 3"
    },
    "language_info": {
      "name": "python"
    }
  },
  "cells": [
    {
      "cell_type": "markdown",
      "metadata": {
        "id": "zg8iOo0MCl7c"
      },
      "source": [
        "# **Final Workout**\n",
        "\n",
        "---\n",
        "\n"
      ]
    },
    {
      "cell_type": "markdown",
      "metadata": {
        "id": "JD57YnySCzpj"
      },
      "source": [
        "##1) Summary of ML SESSION in Conversation\n",
        "    Hello Sir I'm perarasi\n",
        "\n",
        "***Interviewer :*** Yes, Take your seat\n",
        "\n",
        "***Me :*** Thank You Sir !!\n",
        "\n",
        "\n",
        "***Interviewer :*** Can u say \"What is machine learning\" ?\n",
        "\n",
        "***Me :*** Machine learning (ML) is a branch of artificial intelligence (AI) that focuses on building applications that can automatically and periodically learn and improve from experience without being explicitly programmed.\n",
        "\n",
        "***Interviewer :*** Ok, Can you say some thing about the recent achivements of ML..?\n",
        "\n",
        "***Me :***\n",
        "*  GPT3 - OpenAI\n",
        "*  Alphafold AI - deepmind\n",
        "*  Deepfake\n",
        "\n",
        "***Interviewer :*** What are the types of machine learning  ?\n",
        "\n",
        "***Me :***\n",
        "* Supervised\n",
        "* Unsupervised\n",
        "* Reinforcement\n",
        "\n",
        "***Interviewer :*** Mention some ML libraries in python.\n",
        "\n",
        "***Me :*** Numpy , pandas , sklearn , keras , matplotlib , TensorFlow etc...\n",
        "\n",
        "\n",
        "***Interviewer :***\n",
        "         Define the term Overfitting , Underfitting , Good Balance in Machine Learning.\n",
        "\n",
        "***Me :*** \n",
        "      To say in simple words,\n",
        "\n",
        "Overfitting: Good performance on the training data, poor generliazation to other data. \n",
        "\n",
        "Underfitting: Poor performance on the training data and poor generalization to other data.\n",
        "\n",
        "Good Balance: Good performance on the training data and good generalization to other data.\n",
        "\n",
        "***Interviewer :***\n",
        "        Good !! In how many dimensions we view in ML?\n",
        "\n",
        "***Me :*** Multi-Dimension..\n",
        "\n",
        "***Interviewer :*** \n",
        "      Then, state Curse of dimensionality..\n",
        "\n",
        "***Me :***\n",
        "The curse of dimensionality basically means that the error increases with the increase in the number of features. It refers to the fact that algorithms are harder to design in high dimensions and often have a running time exponential in the dimensions.\n",
        "\n",
        "***Interviewer :***\n",
        "Mention some clustering algorithm.\n",
        "\n",
        "***Me :***\n",
        "\n",
        " * K-means clustering\n",
        " * K-medians clustering\n",
        " * Hierarchical clustering\n",
        "\n",
        "\n",
        "**Interviewer :**\n",
        " What is Perceptron ?\n",
        "\n",
        "***Me :***\n",
        "   It is a simple artificial Neural Networks.\n",
        "\n",
        "***Interviewer :***\n",
        "   State Hebbs Rule Formula.\n",
        "\n",
        "***Me :*** y = w1 * x1 + w2 * x2 + Bias.\n",
        "\n",
        "**Interviewer :**\n",
        "   What is Gradient Descent in ML ?\n",
        "\n",
        "***Me :*** Gradient Descent is an optimization algorithm used for minimizing the cost function in various machine learning algorithms. It is basically used for updating the parameters of the learning model.\n",
        "\n",
        "Algorithm like Stochastic Gradient Descent used.\n",
        "\n",
        "***Interviewer :***\n",
        "How does back propagation work?\n",
        "\n",
        "***Me :***\n",
        "The backpropagation algorithm works by computing the gradient of the loss function with respect to each weight by the chain rule, computing the gradient one layer at a time, iterating backward from the last layer to avoid redundant calculations of intermediate terms in the chain rule.\n",
        "\n",
        "***Interviewer :*** Ok We will come back to you.\n",
        "\n",
        "***Me :*** Ok Sir..!! Thank You..!! \n",
        "\n"
      ]
    },
    {
      "cell_type": "markdown",
      "metadata": {
        "id": "NAcE6K62r38z"
      },
      "source": [
        "***Me :*** These are some of my work..Sir !!"
      ]
    },
    {
      "cell_type": "markdown",
      "metadata": {
        "id": "AA3HfYRLRDlo"
      },
      "source": [
        "##2) [i] Supervised Learning\n",
        "\n",
        "---\n",
        "\n"
      ]
    },
    {
      "cell_type": "markdown",
      "metadata": {
        "id": "A1dNlAM99J4T"
      },
      "source": [
        "Using the breast cancer dataset from the sklearn.datasets module.\n",
        "\n",
        "Classification is done using **K nearest Neighbor Alogrithm**\n",
        "\n",
        "The dataset classifies tumors into two categories (malignant and benign) and contains something like 30 features."
      ]
    },
    {
      "cell_type": "code",
      "metadata": {
        "id": "j4PybcYDRvdY"
      },
      "source": [
        "import numpy as np\n",
        "import pandas as pd\n",
        "from matplotlib import pyplot as plt\n",
        "from sklearn.datasets import load_breast_cancer\n",
        "from sklearn.metrics import confusion_matrix\n",
        "from sklearn.neighbors import KNeighborsClassifier\n",
        "from sklearn.model_selection import train_test_split\n",
        "import seaborn as sns\n",
        "sns.set()"
      ],
      "execution_count": null,
      "outputs": []
    },
    {
      "cell_type": "code",
      "metadata": {
        "id": "BwpLNLVVRxTf"
      },
      "source": [
        "breast_cancer = load_breast_cancer()\n",
        "X = pd.DataFrame(breast_cancer.data, columns=breast_cancer.feature_names)\n",
        "X = X[['mean area', 'mean compactness']]\n",
        "y = pd.Categorical.from_codes(breast_cancer.target, breast_cancer.target_names)\n",
        "y = pd.get_dummies(y, drop_first=True)"
      ],
      "execution_count": null,
      "outputs": []
    },
    {
      "cell_type": "code",
      "metadata": {
        "id": "L_ZIdfbHR24_"
      },
      "source": [
        "X_train, X_test, y_train, y_test = train_test_split(X, y, random_state=1)"
      ],
      "execution_count": null,
      "outputs": []
    },
    {
      "cell_type": "code",
      "metadata": {
        "colab": {
          "base_uri": "https://localhost:8080/"
        },
        "id": "yaBzhLChR7_I",
        "outputId": "96d921d2-b41e-4042-fd3c-358c295d6499"
      },
      "source": [
        "knn = KNeighborsClassifier(n_neighbors=5, metric='euclidean')\n",
        "knn.fit(X_train, y_train)"
      ],
      "execution_count": null,
      "outputs": [
        {
          "output_type": "stream",
          "text": [
            "/usr/local/lib/python3.7/dist-packages/ipykernel_launcher.py:2: DataConversionWarning: A column-vector y was passed when a 1d array was expected. Please change the shape of y to (n_samples, ), for example using ravel().\n",
            "  \n"
          ],
          "name": "stderr"
        },
        {
          "output_type": "execute_result",
          "data": {
            "text/plain": [
              "KNeighborsClassifier(algorithm='auto', leaf_size=30, metric='euclidean',\n",
              "                     metric_params=None, n_jobs=None, n_neighbors=5, p=2,\n",
              "                     weights='uniform')"
            ]
          },
          "metadata": {
            "tags": []
          },
          "execution_count": 6
        }
      ]
    },
    {
      "cell_type": "markdown",
      "metadata": {
        "id": "4tO3gDYe91jw"
      },
      "source": [
        "Using our newly trained model, we predict whether a tumor is benign or not given its mean compactness and area."
      ]
    },
    {
      "cell_type": "code",
      "metadata": {
        "id": "n_YgocPtR8sI"
      },
      "source": [
        "y_pred = knn.predict(X_test)"
      ],
      "execution_count": null,
      "outputs": []
    },
    {
      "cell_type": "code",
      "metadata": {
        "colab": {
          "base_uri": "https://localhost:8080/",
          "height": 302
        },
        "id": "caKegYssSAHw",
        "outputId": "c45c14b9-5296-48e8-88e4-33908b135899"
      },
      "source": [
        "sns.scatterplot(\n",
        "    x='mean area',\n",
        "    y='mean compactness',\n",
        "    hue='benign',\n",
        "    data=X_test.join(y_test, how='outer')\n",
        ")"
      ],
      "execution_count": null,
      "outputs": [
        {
          "output_type": "execute_result",
          "data": {
            "text/plain": [
              "<matplotlib.axes._subplots.AxesSubplot at 0x7effca808c90>"
            ]
          },
          "metadata": {
            "tags": []
          },
          "execution_count": 8
        },
        {
          "output_type": "display_data",
          "data": {
            "image/png": "[encoded data removed]",
            "text/plain": [
              "<Figure size 432x288 with 1 Axes>"
            ]
          },
          "metadata": {
            "tags": []
          }
        }
      ]
    },
    {
      "cell_type": "markdown",
      "metadata": {
        "id": "2XZYgumT-Hhm"
      },
      "source": [
        "Another way of evaluating our model is to compute the confusion matrix."
      ]
    },
    {
      "cell_type": "code",
      "metadata": {
        "colab": {
          "base_uri": "https://localhost:8080/"
        },
        "id": "PKnbRTDrSFkQ",
        "outputId": "8d1ba4ee-fcfa-4249-8189-e5a5350f963c"
      },
      "source": [
        "confusion_matrix(y_test, y_pred)"
      ],
      "execution_count": null,
      "outputs": [
        {
          "output_type": "execute_result",
          "data": {
            "text/plain": [
              "array([[42, 13],\n",
              "       [ 9, 79]])"
            ]
          },
          "metadata": {
            "tags": []
          },
          "execution_count": 9
        }
      ]
    },
    {
      "cell_type": "markdown",
      "metadata": {
        "id": "7QVXxCkW-LKq"
      },
      "source": [
        "Given our confusion matrix, our model has an accuracy of 121/143 = 84.6%."
      ]
    },
    {
      "cell_type": "markdown",
      "metadata": {
        "id": "G83l6DiTXsTb"
      },
      "source": [
        "##2nd Example :"
      ]
    },
    {
      "cell_type": "markdown",
      "metadata": {
        "id": "_fL444P0-tLy"
      },
      "source": [
        "* We are going to use the famous iris data set for our KNN Example.\n",
        "\n",
        "* The dataset consists of four attributes: sepal-width, sepal-length, petal-width and petal-length. These are the attributes of specific types of iris plant. The task is to predict the class to which these plants belong. There are three classes in the dataset: Iris-setosa, Iris-versicolor and Iris-virginica."
      ]
    },
    {
      "cell_type": "code",
      "metadata": {
        "id": "FYPehcKqXvLw"
      },
      "source": [
        "import numpy as np\n",
        "import matplotlib.pyplot as plt\n",
        "import pandas as pd"
      ],
      "execution_count": null,
      "outputs": []
    },
    {
      "cell_type": "markdown",
      "metadata": {
        "id": "STZs7LFz_Evx"
      },
      "source": [
        "To import the dataset and load it into our pandas dataframe."
      ]
    },
    {
      "cell_type": "code",
      "metadata": {
        "id": "_Rh_4Rn_XyKh"
      },
      "source": [
        "url = \"https://archive.ics.uci.edu/ml/machine-learning-databases/iris/iris.data\"\n",
        "\n",
        "# Assign colum names to the dataset\n",
        "names = ['sepal-length', 'sepal-width', 'petal-length', 'petal-width', 'Class']\n",
        "\n",
        "# Read dataset to pandas dataframe\n",
        "dataset = pd.read_csv(url, names=names)"
      ],
      "execution_count": null,
      "outputs": []
    },
    {
      "cell_type": "code",
      "metadata": {
        "colab": {
          "base_uri": "https://localhost:8080/",
          "height": 195
        },
        "id": "wWyoCQz6X1Ty",
        "outputId": "7d0b6967-4573-4ebe-eb0c-adf360d011ed"
      },
      "source": [
        "dataset.head()"
      ],
      "execution_count": null,
      "outputs": [
        {
          "output_type": "execute_result",
          "data": {
            "text/html": [
              "<div>\n",
              "<style scoped>\n",
              "    .dataframe tbody tr th:only-of-type {\n",
              "        vertical-align: middle;\n",
              "    }\n",
              "\n",
              "    .dataframe tbody tr th {\n",
              "        vertical-align: top;\n",
              "    }\n",
              "\n",
              "    .dataframe thead th {\n",
              "        text-align: right;\n",
              "    }\n",
              "</style>\n",
              "<table border=\"1\" class=\"dataframe\">\n",
              "  <thead>\n",
              "    <tr style=\"text-align: right;\">\n",
              "      <th></th>\n",
              "      <th>sepal-length</th>\n",
              "      <th>sepal-width</th>\n",
              "      <th>petal-length</th>\n",
              "      <th>petal-width</th>\n",
              "      <th>Class</th>\n",
              "    </tr>\n",
              "  </thead>\n",
              "  <tbody>\n",
              "    <tr>\n",
              "      <th>0</th>\n",
              "      <td>5.1</td>\n",
              "      <td>3.5</td>\n",
              "      <td>1.4</td>\n",
              "      <td>0.2</td>\n",
              "      <td>Iris-setosa</td>\n",
              "    </tr>\n",
              "    <tr>\n",
              "      <th>1</th>\n",
              "      <td>4.9</td>\n",
              "      <td>3.0</td>\n",
              "      <td>1.4</td>\n",
              "      <td>0.2</td>\n",
              "      <td>Iris-setosa</td>\n",
              "    </tr>\n",
              "    <tr>\n",
              "      <th>2</th>\n",
              "      <td>4.7</td>\n",
              "      <td>3.2</td>\n",
              "      <td>1.3</td>\n",
              "      <td>0.2</td>\n",
              "      <td>Iris-setosa</td>\n",
              "    </tr>\n",
              "    <tr>\n",
              "      <th>3</th>\n",
              "      <td>4.6</td>\n",
              "      <td>3.1</td>\n",
              "      <td>1.5</td>\n",
              "      <td>0.2</td>\n",
              "      <td>Iris-setosa</td>\n",
              "    </tr>\n",
              "    <tr>\n",
              "      <th>4</th>\n",
              "      <td>5.0</td>\n",
              "      <td>3.6</td>\n",
              "      <td>1.4</td>\n",
              "      <td>0.2</td>\n",
              "      <td>Iris-setosa</td>\n",
              "    </tr>\n",
              "  </tbody>\n",
              "</table>\n",
              "</div>"
            ],
            "text/plain": [
              "   sepal-length  sepal-width  petal-length  petal-width        Class\n",
              "0           5.1          3.5           1.4          0.2  Iris-setosa\n",
              "1           4.9          3.0           1.4          0.2  Iris-setosa\n",
              "2           4.7          3.2           1.3          0.2  Iris-setosa\n",
              "3           4.6          3.1           1.5          0.2  Iris-setosa\n",
              "4           5.0          3.6           1.4          0.2  Iris-setosa"
            ]
          },
          "metadata": {
            "tags": []
          },
          "execution_count": 12
        }
      ]
    },
    {
      "cell_type": "markdown",
      "metadata": {
        "id": "a04s0aI8_QdS"
      },
      "source": [
        "The next step is to split our dataset into its attributes and labels. "
      ]
    },
    {
      "cell_type": "code",
      "metadata": {
        "id": "1gSD3YskX7_J"
      },
      "source": [
        "X = dataset.iloc[:, :-1].values\n",
        "y = dataset.iloc[:, 4].values"
      ],
      "execution_count": null,
      "outputs": []
    },
    {
      "cell_type": "markdown",
      "metadata": {
        "id": "VlAsu8sr_U7y"
      },
      "source": [
        "To avoid over-fitting, we will divide our dataset into training and test splits, which gives us a better idea as to how our algorithm performed during the testing phase. This way our algorithm is tested on un-seen data, as it would be in a production application."
      ]
    },
    {
      "cell_type": "code",
      "metadata": {
        "id": "tW_9bF_rX_Dx"
      },
      "source": [
        "from sklearn.model_selection import train_test_split\n",
        "X_train, X_test, y_train, y_test = train_test_split(X, y, test_size=0.20)"
      ],
      "execution_count": null,
      "outputs": []
    },
    {
      "cell_type": "code",
      "metadata": {
        "id": "pLP_z9EnYInx"
      },
      "source": [
        "from sklearn.preprocessing import StandardScaler\n",
        "scaler = StandardScaler()\n",
        "scaler.fit(X_train)\n",
        "\n",
        "X_train = scaler.transform(X_train)\n",
        "X_test = scaler.transform(X_test)"
      ],
      "execution_count": null,
      "outputs": []
    },
    {
      "cell_type": "markdown",
      "metadata": {
        "id": "2hz_H2ZD_dYC"
      },
      "source": [
        "Training and Predictions"
      ]
    },
    {
      "cell_type": "code",
      "metadata": {
        "colab": {
          "base_uri": "https://localhost:8080/"
        },
        "id": "H8OXcNTMYNyR",
        "outputId": "cbdb2e27-7d74-45d9-9873-295024d815a7"
      },
      "source": [
        "from sklearn.neighbors import KNeighborsClassifier\n",
        "classifier = KNeighborsClassifier(n_neighbors=5)\n",
        "classifier.fit(X_train, y_train)"
      ],
      "execution_count": null,
      "outputs": [
        {
          "output_type": "execute_result",
          "data": {
            "text/plain": [
              "KNeighborsClassifier(algorithm='auto', leaf_size=30, metric='minkowski',\n",
              "                     metric_params=None, n_jobs=None, n_neighbors=5, p=2,\n",
              "                     weights='uniform')"
            ]
          },
          "metadata": {
            "tags": []
          },
          "execution_count": 16
        }
      ]
    },
    {
      "cell_type": "code",
      "metadata": {
        "id": "B2KvhkBdYSxB"
      },
      "source": [
        "y_pred = classifier.predict(X_test)"
      ],
      "execution_count": null,
      "outputs": []
    },
    {
      "cell_type": "markdown",
      "metadata": {
        "id": "GlCZ9mQa_nuk"
      },
      "source": [
        "Evaluating the Algorithm \n",
        "\n",
        "For evaluating an algorithm, confusion matrix, precision, recall and f1 score are the most commonly used metrics. The confusion_matrix and classification_report methods of the sklearn.metrics can be used to calculate these metrics."
      ]
    },
    {
      "cell_type": "code",
      "metadata": {
        "colab": {
          "base_uri": "https://localhost:8080/"
        },
        "id": "STiTPwgUYVRD",
        "outputId": "0cfbd25c-6d0b-4bde-9630-430c96b3d6c9"
      },
      "source": [
        "from sklearn.metrics import classification_report, confusion_matrix\n",
        "print(confusion_matrix(y_test, y_pred))\n",
        "print(classification_report(y_test, y_pred))"
      ],
      "execution_count": null,
      "outputs": [
        {
          "output_type": "stream",
          "text": [
            "[[ 8  0  0]\n",
            " [ 0 10  1]\n",
            " [ 0  1 10]]\n",
            "                 precision    recall  f1-score   support\n",
            "\n",
            "    Iris-setosa       1.00      1.00      1.00         8\n",
            "Iris-versicolor       0.91      0.91      0.91        11\n",
            " Iris-virginica       0.91      0.91      0.91        11\n",
            "\n",
            "       accuracy                           0.93        30\n",
            "      macro avg       0.94      0.94      0.94        30\n",
            "   weighted avg       0.93      0.93      0.93        30\n",
            "\n"
          ],
          "name": "stdout"
        }
      ]
    },
    {
      "cell_type": "markdown",
      "metadata": {
        "id": "exLXLFwsZD_5"
      },
      "source": [
        "## [ii] Unsupervised Learning\n",
        "\n",
        "---\n",
        "\n"
      ]
    },
    {
      "cell_type": "markdown",
      "metadata": {
        "id": "kdl14dKLGTCU"
      },
      "source": [
        "This program uses simple linear regression, which is a basic machine learning algorithm, to predict the SAT score of a given student, based on the student's GPA using small datasets."
      ]
    },
    {
      "cell_type": "code",
      "metadata": {
        "id": "DVuRYrspD40s"
      },
      "source": [
        "import numpy as np\n",
        "import matplotlib.pyplot as plt\n",
        "import pandas as pd"
      ],
      "execution_count": null,
      "outputs": []
    },
    {
      "cell_type": "code",
      "metadata": {
        "id": "AP6OvrveD7Rd"
      },
      "source": [
        "dataset = pd.read_csv('data.csv')\n",
        "X = dataset.iloc[:, :-1].values\n",
        "y = dataset.iloc[:, -1].values"
      ],
      "execution_count": null,
      "outputs": []
    },
    {
      "cell_type": "code",
      "metadata": {
        "id": "kz_yZcPBD9NW"
      },
      "source": [
        "from sklearn.model_selection import train_test_split\n",
        "X_train, X_test, y_train, y_test = train_test_split(X, y, test_size=0.2, random_state=0)"
      ],
      "execution_count": null,
      "outputs": []
    },
    {
      "cell_type": "code",
      "metadata": {
        "colab": {
          "base_uri": "https://localhost:8080/"
        },
        "id": "QRMnQp5ND_8q",
        "outputId": "a5bbbb61-2a92-4c10-9313-2af1c7f93547"
      },
      "source": [
        "from sklearn.linear_model import LinearRegression\n",
        "regressor = LinearRegression()\n",
        "regressor.fit(X_train, y_train)"
      ],
      "execution_count": null,
      "outputs": [
        {
          "output_type": "execute_result",
          "data": {
            "text/plain": [
              "LinearRegression(copy_X=True, fit_intercept=True, n_jobs=None, normalize=False)"
            ]
          },
          "metadata": {
            "tags": []
          },
          "execution_count": 37
        }
      ]
    },
    {
      "cell_type": "markdown",
      "metadata": {
        "id": "BHe4vS7-GqV5"
      },
      "source": [
        "Prediction"
      ]
    },
    {
      "cell_type": "code",
      "metadata": {
        "id": "wbOM6tbOEXtD"
      },
      "source": [
        "y_pred = regressor.predict(X_test)"
      ],
      "execution_count": null,
      "outputs": []
    },
    {
      "cell_type": "code",
      "metadata": {
        "colab": {
          "base_uri": "https://localhost:8080/",
          "height": 301
        },
        "id": "1OYGRBknEZvA",
        "outputId": "fc6e82d9-1a28-46d7-d935-90af82957a79"
      },
      "source": [
        "plt.title('SAT Score vs GPA (Training set)')\n",
        "plt.xlabel('GPA')\n",
        "plt.ylabel('SAT')\n",
        "plt.scatter(X_train, y_train, color='red')\n",
        "plt.plot(X_train, regressor.predict(X_train), color='blue')\n",
        "plt.show()"
      ],
      "execution_count": null,
      "outputs": [
        {
          "output_type": "display_data",
          "data": {
            "image/png": "[encoded data removed]",
            "text/plain": [
              "<Figure size 432x288 with 1 Axes>"
            ]
          },
          "metadata": {
            "tags": [],
            "needs_background": "light"
          }
        }
      ]
    },
    {
      "cell_type": "code",
      "metadata": {
        "colab": {
          "base_uri": "https://localhost:8080/",
          "height": 301
        },
        "id": "KJ7bxe8zEblE",
        "outputId": "3c26fda4-490b-44b2-ea47-ef0bc11a13d4"
      },
      "source": [
        "plt.title('SAT Score vs GPA (Test set)')\n",
        "plt.xlabel('GPA')\n",
        "plt.ylabel('SAT')\n",
        "plt.scatter(X_test, y_test, color='red')\n",
        "plt.plot(X_test, y_pred, color='blue')\n",
        "plt.show()"
      ],
      "execution_count": null,
      "outputs": [
        {
          "output_type": "display_data",
          "data": {
            "image/png": "[encoded data removed]",
            "text/plain": [
              "<Figure size 432x288 with 1 Axes>"
            ]
          },
          "metadata": {
            "tags": [],
            "needs_background": "light"
          }
        }
      ]
    },
    {
      "cell_type": "markdown",
      "metadata": {
        "id": "ZHIVj7JpGyZ0"
      },
      "source": [
        "Output:"
      ]
    },
    {
      "cell_type": "code",
      "metadata": {
        "colab": {
          "base_uri": "https://localhost:8080/"
        },
        "id": "5k1wADMvEdZc",
        "outputId": "059db77d-23c3-4cd8-a82b-a94f5d1641c8"
      },
      "source": [
        "print(\"Enter GPA (a number between 0 and 5, inclusive):\")\n",
        "x = float(input())\n",
        "if x >= 0 and x <= 5:\n",
        "  print(\"Predicted SAT score:\", int(round(regressor.predict([[x]])[0])))\n",
        "else: print(\"Invalid GPA\")"
      ],
      "execution_count": null,
      "outputs": [
        {
          "output_type": "stream",
          "text": [
            "Enter GPA (a number between 0 and 5, inclusive):\n",
            "4.2\n",
            "Predicted SAT score: 1943\n"
          ],
          "name": "stdout"
        }
      ]
    },
    {
      "cell_type": "markdown",
      "metadata": {
        "id": "xLbX5HG6G86s"
      },
      "source": [
        "#3) Simple Neural Network\n",
        "\n",
        "---\n",
        "\n",
        "\n",
        "\n"
      ]
    },
    {
      "cell_type": "markdown",
      "metadata": {
        "id": "zsb2PvtHrO98"
      },
      "source": [
        "###Identifying Images from the CIFAR-10 Dataset using CNNs"
      ]
    },
    {
      "cell_type": "markdown",
      "metadata": {
        "id": "_zImO8TJO-Iw"
      },
      "source": [
        "keras imports for the dataset and building our neural network"
      ]
    },
    {
      "cell_type": "code",
      "metadata": {
        "id": "4hwXosxtO-9w"
      },
      "source": [
        "from keras.datasets import cifar10\n",
        "from keras.models import Sequential\n",
        "from keras.layers import Dense, Dropout, Conv2D, MaxPool2D, Flatten\n",
        "from keras.utils import np_utils"
      ],
      "execution_count": null,
      "outputs": []
    },
    {
      "cell_type": "markdown",
      "metadata": {
        "id": "Ban0y1ksPCLR"
      },
      "source": [
        "loading the dataset"
      ]
    },
    {
      "cell_type": "code",
      "metadata": {
        "colab": {
          "base_uri": "https://localhost:8080/"
        },
        "id": "_TxnoQ_IPCha",
        "outputId": "08df6d17-c1ff-451a-8317-8a1f1f45dfc3"
      },
      "source": [
        "(X_train, y_train), (X_test, y_test) = cifar10.load_data()"
      ],
      "execution_count": null,
      "outputs": [
        {
          "output_type": "stream",
          "text": [
            "Downloading data from https://www.cs.toronto.edu/~kriz/cifar-10-python.tar.gz\n",
            "170500096/170498071 [==============================] - 4s 0us/step\n",
            "170508288/170498071 [==============================] - 4s 0us/step\n"
          ],
          "name": "stdout"
        }
      ]
    },
    {
      "cell_type": "markdown",
      "metadata": {
        "id": "T4rt11adPIFx"
      },
      "source": [
        "building the input vector from the 32x32 pixels"
      ]
    },
    {
      "cell_type": "code",
      "metadata": {
        "id": "CuVQxenpPKuf"
      },
      "source": [
        "X_train = X_train.reshape(X_train.shape[0], 32, 32, 3)\n",
        "X_test = X_test.reshape(X_test.shape[0], 32, 32, 3)\n",
        "X_train = X_train.astype('float32')\n",
        "X_test = X_test.astype('float32')\n"
      ],
      "execution_count": null,
      "outputs": []
    },
    {
      "cell_type": "markdown",
      "metadata": {
        "id": "5mgWEjI5PNEv"
      },
      "source": [
        "Normalizing the data to help with the training"
      ]
    },
    {
      "cell_type": "code",
      "metadata": {
        "id": "Xp1WMKEzPP_n"
      },
      "source": [
        "X_train /= 255\n",
        "X_test /= 255"
      ],
      "execution_count": null,
      "outputs": []
    },
    {
      "cell_type": "markdown",
      "metadata": {
        "id": "k9Z8FhURPSAo"
      },
      "source": [
        "one-hot encoding using keras' numpy-related utilities"
      ]
    },
    {
      "cell_type": "code",
      "metadata": {
        "colab": {
          "base_uri": "https://localhost:8080/"
        },
        "id": "D5d-7KVQPT9i",
        "outputId": "b722691d-4e7e-4b12-c51c-b8635d6ff18c"
      },
      "source": [
        "n_classes = 10\n",
        "print(\"Shape before one-hot encoding: \", y_train.shape)\n",
        "Y_train = np_utils.to_categorical(y_train, n_classes)\n",
        "Y_test = np_utils.to_categorical(y_test, n_classes)\n",
        "print(\"Shape after one-hot encoding: \", Y_train.shape)"
      ],
      "execution_count": null,
      "outputs": [
        {
          "output_type": "stream",
          "text": [
            "Shape before one-hot encoding:  (50000, 1)\n",
            "Shape after one-hot encoding:  (50000, 10)\n"
          ],
          "name": "stdout"
        }
      ]
    },
    {
      "cell_type": "markdown",
      "metadata": {
        "id": "6pOw1oQAPWCo"
      },
      "source": [
        "Building a linear stack of layers with the sequential model"
      ]
    },
    {
      "cell_type": "code",
      "metadata": {
        "id": "XvdzLEHMPYxk"
      },
      "source": [
        "model = Sequential()"
      ],
      "execution_count": null,
      "outputs": []
    },
    {
      "cell_type": "markdown",
      "metadata": {
        "id": "i6OqwvjRPb5q"
      },
      "source": [
        "convolutional layer"
      ]
    },
    {
      "cell_type": "code",
      "metadata": {
        "id": "I7d5UvNFPdsi"
      },
      "source": [
        "model.add(Conv2D(50, kernel_size=(3,3), strides=(1,1), padding='same', activation='relu', input_shape=(32, 32, 3)))"
      ],
      "execution_count": null,
      "outputs": []
    },
    {
      "cell_type": "markdown",
      "metadata": {
        "id": "19ISSjzfPgJD"
      },
      "source": [
        "convolutional layer"
      ]
    },
    {
      "cell_type": "code",
      "metadata": {
        "id": "x0yaqOSLPmLS"
      },
      "source": [
        "model.add(Conv2D(75, kernel_size=(3,3), strides=(1,1), padding='same', activation='relu'))\n",
        "model.add(MaxPool2D(pool_size=(2,2)))\n",
        "model.add(Dropout(0.25))"
      ],
      "execution_count": null,
      "outputs": []
    },
    {
      "cell_type": "code",
      "metadata": {
        "id": "QqYWsUSPPpB1"
      },
      "source": [
        "model.add(Conv2D(125, kernel_size=(3,3), strides=(1,1), padding='same', activation='relu'))\n",
        "model.add(MaxPool2D(pool_size=(2,2)))\n",
        "model.add(Dropout(0.25))"
      ],
      "execution_count": null,
      "outputs": []
    },
    {
      "cell_type": "markdown",
      "metadata": {
        "id": "xmTbORJfQg9R"
      },
      "source": [
        "flatten output of conv"
      ]
    },
    {
      "cell_type": "code",
      "metadata": {
        "id": "XYZZgXEAP6Fa"
      },
      "source": [
        "model.add(Flatten())"
      ],
      "execution_count": null,
      "outputs": []
    },
    {
      "cell_type": "markdown",
      "metadata": {
        "id": "1l-74ZvJP65z"
      },
      "source": [
        "hidden layer"
      ]
    },
    {
      "cell_type": "code",
      "metadata": {
        "id": "BoFT3zHQPugV"
      },
      "source": [
        "model.add(Dense(500, activation='relu'))\n",
        "model.add(Dropout(0.4))\n",
        "model.add(Dense(250, activation='relu'))\n",
        "model.add(Dropout(0.3))\n",
        "# output layer\n",
        "model.add(Dense(10, activation='softmax'))"
      ],
      "execution_count": null,
      "outputs": []
    },
    {
      "cell_type": "markdown",
      "metadata": {
        "id": "kSbzxWTKPvEG"
      },
      "source": [
        "output layer"
      ]
    },
    {
      "cell_type": "code",
      "metadata": {
        "id": "2V-ChdOlP_7R"
      },
      "source": [
        "model.add(Dense(10, activation='softmax'))"
      ],
      "execution_count": null,
      "outputs": []
    },
    {
      "cell_type": "markdown",
      "metadata": {
        "id": "DHKXTAJCQCjA"
      },
      "source": [
        "compiling the sequential model"
      ]
    },
    {
      "cell_type": "code",
      "metadata": {
        "id": "3yqUhAM3QCMg"
      },
      "source": [
        "model.compile(loss='categorical_crossentropy', metrics=['accuracy'], optimizer='adam')"
      ],
      "execution_count": null,
      "outputs": []
    },
    {
      "cell_type": "markdown",
      "metadata": {
        "id": "XDQEtXlJQIbw"
      },
      "source": [
        "training the model for 10 epochs"
      ]
    },
    {
      "cell_type": "code",
      "metadata": {
        "colab": {
          "base_uri": "https://localhost:8080/"
        },
        "id": "qbns-q3qQH8g",
        "outputId": "d04618cb-5ce3-417f-fef2-32ab2c10ae0e"
      },
      "source": [
        "model.fit(X_train, Y_train, batch_size=128, epochs=10, validation_data=(X_test, Y_test))"
      ],
      "execution_count": null,
      "outputs": [
        {
          "output_type": "stream",
          "text": [
            "Epoch 1/10\n",
            "391/391 [==============================] - 447s 1s/step - loss: 1.6506 - accuracy: 0.4263 - val_loss: 1.5312 - val_accuracy: 0.4793\n",
            "Epoch 2/10\n",
            "391/391 [==============================] - 448s 1s/step - loss: 1.4948 - accuracy: 0.4857 - val_loss: 1.4289 - val_accuracy: 0.5069\n",
            "Epoch 3/10\n",
            "391/391 [==============================] - 448s 1s/step - loss: 1.3719 - accuracy: 0.5325 - val_loss: 1.3225 - val_accuracy: 0.5555\n",
            "Epoch 4/10\n",
            "391/391 [==============================] - 446s 1s/step - loss: 1.2773 - accuracy: 0.5641 - val_loss: 1.2449 - val_accuracy: 0.5768\n",
            "Epoch 5/10\n",
            "391/391 [==============================] - 444s 1s/step - loss: 1.1962 - accuracy: 0.5956 - val_loss: 1.1759 - val_accuracy: 0.6277\n",
            "Epoch 6/10\n",
            "391/391 [==============================] - 444s 1s/step - loss: 1.1286 - accuracy: 0.6281 - val_loss: 1.1240 - val_accuracy: 0.6661\n",
            "Epoch 7/10\n",
            "391/391 [==============================] - 444s 1s/step - loss: 1.0578 - accuracy: 0.6722 - val_loss: 1.0681 - val_accuracy: 0.6839\n",
            "Epoch 8/10\n",
            "391/391 [==============================] - 445s 1s/step - loss: 0.9959 - accuracy: 0.6991 - val_loss: 1.0104 - val_accuracy: 0.6986\n",
            "Epoch 9/10\n",
            "391/391 [==============================] - 445s 1s/step - loss: 0.9457 - accuracy: 0.7122 - val_loss: 0.9805 - val_accuracy: 0.7103\n",
            "Epoch 10/10\n",
            "391/391 [==============================] - 444s 1s/step - loss: 0.8919 - accuracy: 0.7286 - val_loss: 0.9603 - val_accuracy: 0.7102\n"
          ],
          "name": "stdout"
        },
        {
          "output_type": "execute_result",
          "data": {
            "text/plain": [
              "<keras.callbacks.History at 0x7eff87f1ec10>"
            ]
          },
          "metadata": {
            "tags": []
          },
          "execution_count": 61
        }
      ]
    },
    {
      "cell_type": "code",
      "metadata": {
        "colab": {
          "base_uri": "https://localhost:8080/"
        },
        "id": "yWJeTeOURrK4",
        "outputId": "451db9bc-6827-4b2d-d543-ca92a9c80ac2"
      },
      "source": [
        "X_new = X_test[:9]\n",
        "y_prob = model.predict(X_new).round(2)\n",
        "y_prob"
      ],
      "execution_count": null,
      "outputs": [
        {
          "output_type": "execute_result",
          "data": {
            "text/plain": [
              "array([[0.  , 0.  , 0.03, 0.39, 0.02, 0.51, 0.02, 0.02, 0.  , 0.  ],\n",
              "       [0.08, 0.54, 0.  , 0.01, 0.  , 0.01, 0.01, 0.01, 0.28, 0.08],\n",
              "       [0.15, 0.2 , 0.  , 0.  , 0.  , 0.  , 0.  , 0.  , 0.62, 0.01],\n",
              "       [0.56, 0.06, 0.07, 0.02, 0.03, 0.01, 0.01, 0.01, 0.23, 0.01],\n",
              "       [0.  , 0.  , 0.02, 0.04, 0.02, 0.01, 0.9 , 0.  , 0.  , 0.  ],\n",
              "       [0.  , 0.  , 0.02, 0.04, 0.02, 0.01, 0.91, 0.  , 0.  , 0.  ],\n",
              "       [0.05, 0.38, 0.02, 0.06, 0.02, 0.03, 0.04, 0.02, 0.06, 0.33],\n",
              "       [0.  , 0.01, 0.03, 0.05, 0.03, 0.01, 0.87, 0.  , 0.  , 0.  ],\n",
              "       [0.  , 0.  , 0.03, 0.39, 0.03, 0.49, 0.02, 0.02, 0.  , 0.  ]],\n",
              "      dtype=float32)"
            ]
          },
          "metadata": {
            "tags": []
          },
          "execution_count": 65
        }
      ]
    },
    {
      "cell_type": "code",
      "metadata": {
        "colab": {
          "base_uri": "https://localhost:8080/",
          "height": 1000
        },
        "id": "gXglnqzcR1TQ",
        "outputId": "8c6bb528-7a79-4948-e32f-be0ed607d266"
      },
      "source": [
        "image = X_test[:8]\n",
        "for i in image:\n",
        "  fig = plt.figure\n",
        "  # plt.imshow(i, cmap='gray')\n",
        "  plt.imshow(i  )\n",
        "  plt.show()"
      ],
      "execution_count": null,
      "outputs": [
        {
          "output_type": "display_data",
          "data": {
            "image/png": "[encoded data removed]",
            "text/plain": [
              "<Figure size 432x288 with 1 Axes>"
            ]
          },
          "metadata": {
            "tags": [],
            "needs_background": "light"
          }
        },
        {
          "output_type": "display_data",
          "data": {
            "image/png": "[encoded data removed]",
            "text/plain": [
              "<Figure size 432x288 with 1 Axes>"
            ]
          },
          "metadata": {
            "tags": [],
            "needs_background": "light"
          }
        },
        {
          "output_type": "display_data",
          "data": {
            "image/png": "[encoded data removed]",
            "text/plain": [
              "<Figure size 432x288 with 1 Axes>"
            ]
          },
          "metadata": {
            "tags": [],
            "needs_background": "light"
          }
        },
        {
          "output_type": "display_data",
          "data": {
            "image/png": "[encoded data removed]",
            "text/plain": [
              "<Figure size 432x288 with 1 Axes>"
            ]
          },
          "metadata": {
            "tags": [],
            "needs_background": "light"
          }
        },
        {
          "output_type": "display_data",
          "data": {
            "image/png": "[encoded data removed]",
            "text/plain": [
              "<Figure size 432x288 with 1 Axes>"
            ]
          },
          "metadata": {
            "tags": [],
            "needs_background": "light"
          }
        },
        {
          "output_type": "display_data",
          "data": {
            "image/png": "[encoded data removed]",
            "text/plain": [
              "<Figure size 432x288 with 1 Axes>"
            ]
          },
          "metadata": {
            "tags": [],
            "needs_background": "light"
          }
        },
        {
          "output_type": "display_data",
          "data": {
            "image/png": "[encoded data removed]",
            "text/plain": [
              "<Figure size 432x288 with 1 Axes>"
            ]
          },
          "metadata": {
            "tags": [],
            "needs_background": "light"
          }
        },
        {
          "output_type": "display_data",
          "data": {
            "image/png": "[encoded data removed]",
            "text/plain": [
              "<Figure size 432x288 with 1 Axes>"
            ]
          },
          "metadata": {
            "tags": [],
            "needs_background": "light"
          }
        }
      ]
    },
    {
      "cell_type": "markdown",
      "metadata": {
        "id": "jtUzc_IPsNKk"
      },
      "source": [
        "---\n",
        "#Thank You !!\n",
        "\n",
        "\n"
      ]
    }
  ]
}