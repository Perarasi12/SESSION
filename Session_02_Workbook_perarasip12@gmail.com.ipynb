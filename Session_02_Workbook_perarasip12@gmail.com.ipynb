{
  "nbformat": 4,
  "nbformat_minor": 0,
  "metadata": {
    "colab": {
      "name": "Session_02_Workbook_swathish2000@gmail.com.ipynb",
      "provenance": [],
      "collapsed_sections": []
    },
    "kernelspec": {
      "name": "python3",
      "display_name": "Python 3"
    },
    "language_info": {
      "name": "python"
    }
  },
  "cells": [
    {
      "cell_type": "markdown",
      "metadata": {
        "id": "j4f2fqDVl5Sm"
      },
      "source": [
        "#Workout 2 \n",
        "###Example"
      ]
    },
    {
      "cell_type": "markdown",
      "metadata": {
        "id": "svmbvUd5QT-X"
      },
      "source": [
        "y = w1 * x1 + w2 * x2 + Bias  \n",
        "\n",
        "\n",
        "w1 = 1\n",
        "\n",
        "w2 = 1\n",
        "\n",
        "b = -1 \n",
        "\n",
        "1*1 + 1* 1 -1 = 1\n",
        "1*-1 + 1* 1 -1 = -1\n",
        "1*1 + 1*-1 -1 = -1\n",
        "1*-1 + 1*-1 -1 = -3 "
      ]
    },
    {
      "cell_type": "markdown",
      "metadata": {
        "id": "S6k_yPfUTN7J"
      },
      "source": [
        "# Thershold\n",
        "\n",
        "y > 0 = 1\n",
        "\n",
        "y = 0 = 0\n",
        "\n",
        "y < 0 = -1\n",
        "\n"
      ]
    },
    {
      "cell_type": "markdown",
      "metadata": {
        "id": "3QMHNq0MyCVx"
      },
      "source": [
        "| X1  | X2  | Y = output | W1 | W2 | B |\n",
        "| --- | --- | ------ | -- | -- | - |\n",
        "| 1   | 1   | 1      |    |    |   |\n",
        "| 1   | \\-1 | \\-1    |    |    |   |\n",
        "| \\-1 | 1   | \\-1    |    |    |   |\n",
        "| \\-1 | \\-1 | \\-1    |    |    |"
      ]
    },
    {
      "cell_type": "markdown",
      "metadata": {
        "id": "wM0JD_Z-3K6f"
      },
      "source": [
        "## *y = w1x1 + w2x2 + b*\n",
        "\n",
        "*w1(new) = w1(old) + x1y*\n",
        "\n",
        "*w2(new) = w2(old) + x2y* <br>\n",
        "\n",
        "*b(new)  = b(old) + y*"
      ]
    },
    {
      "cell_type": "markdown",
      "metadata": {
        "id": "RyiZyHj14v-G"
      },
      "source": [
        "1 = 0*1 + 0*1 + 0 = 0 \n",
        "\n",
        "w1 = 0 + 1* 1\n",
        "\n",
        "w2 = 0 + 1* 1\n",
        "\n",
        "b = 0 + 1\n",
        "\n",
        "| X1  | X2  | output | W1 | W2 | B |\n",
        "| --- | --- | ------ | -- | -- | - |\n",
        "| 1   | 1   | 1      | 1  | 1  | 1 |\n",
        "| 1   | \\-1 | \\-1    |    |    |   |\n",
        "| \\-1 | 1   | \\-1    |    |    |   |\n",
        "| \\-1 | \\-1 | \\-1    |    |    |   | "
      ]
    },
    {
      "cell_type": "markdown",
      "metadata": {
        "id": "BGLVB3UG6tyJ"
      },
      "source": [
        "*y = w1x1 + w2x2 + b*\n",
        "\n",
        "*w1(new) = w1(old) + x1y*\n",
        "\n",
        "*w2(new) = w2(old) + x2y* <br>\n",
        "\n",
        "*b(new)  = b(old) + y*\n",
        "\n",
        "\n",
        "\n",
        "-1 = 1*1 + 1*-1 + 1 = 1\n",
        "\n",
        "w1 = 1 + -1* 1\n",
        "\n",
        "w2 = 1 + -1* -1\n",
        "\n",
        "b = 1 + -1\n",
        "\n",
        "| X1  | X2  | output | W1 | W2 | B |\n",
        "| --- | --- | ------ | -- | -- | - |\n",
        "| 1   | 1   | 1      | 1  | 1  | 1 |\n",
        "| 1   | \\-1 | \\-1    | 0  | 2  | 0 |\n",
        "| \\-1 | 1   | \\-1    |    |    |   |\n",
        "| \\-1 | \\-1 | \\-1    |    |    |   | "
      ]
    },
    {
      "cell_type": "markdown",
      "metadata": {
        "id": "RlRXPjtZVams"
      },
      "source": [
        "y = w1x1 + w2x2 + b*\n",
        "\n",
        "\n",
        "*w1(new) = w1(old) + x1y*\n",
        "\n",
        "*w2(new) = w2(old) + x2y* <br>\n",
        "\n",
        "*b(new)  = b(old) + y*\n",
        "\n",
        "\n",
        "-1 = -1 0  + 2 1 + 0 = 2\n",
        "\n",
        "w1 = 0 + -1* -1\n",
        "\n",
        "w2 = 2 + -1* 1\n",
        "\n",
        "b = 0 + -1\n",
        "\n",
        "| X1  | X2  | output | W1 | W2 | B |\n",
        "| --- | --- | ------ | -- | -- | - |\n",
        "| 1   | 1   | 1      | 1  | 1  | 1 |\n",
        "| 1   | \\-1 | \\-1    | 0  | 2  | 0 |\n",
        "| \\-1 | 1   | \\-1    | 1  | 1  | -1|\n",
        "| \\-1 | \\-1 | \\-1    |    |    |   | "
      ]
    },
    {
      "cell_type": "markdown",
      "metadata": {
        "id": "xl5Bl--8OjPh"
      },
      "source": [
        "y = w1x1 + w2x2 + b\n",
        "\n",
        "\n",
        "*w1(new) = w1(old) + x1y*\n",
        "\n",
        "*w2(new) = w2(old) + x2y* <br>\n",
        "\n",
        "*b(new)  = b(old) + y*\n",
        "\n",
        "\n",
        "-1 = -1 1  + -1 1 + -1 = -3 < 0 so take it as -1\n",
        "\n",
        "no update to weight or bias *needed*\n",
        "\n",
        "| X1  | X2  | output | W1 | W2 | B |\n",
        "| --- | --- | ------ | -- | -- | - |\n",
        "| 1   | 1   | 1      | 1  | 1  | 1 |\n",
        "| 1   | \\-1 | \\-1    | 0  | 2  | 0 |\n",
        "| \\-1 | 1   | \\-1    | 1  | 1  | -1|\n",
        "| \\-1 | \\-1 | \\-1    |  1 | 1  | -1| "
      ]
    },
    {
      "cell_type": "markdown",
      "metadata": {
        "id": "E1zTpt5gO-yM"
      },
      "source": [
        "#Testing for all conditions\n",
        "\n",
        "with weight 1, 1 and bias -1 \n",
        "\n",
        "y = w1x1 + w2x2 + b\n",
        "\n",
        "1  = 1*1 + 1*1 + -1 = 1\n",
        "\n",
        "-1 = 1*1 + 1*-1 + -1 = -1\n",
        "\n",
        "-1 = -1*1 + 1*1 + -1 = -1 \n",
        "\n",
        "-1 = 1*-1 + 1*-1 + -1 = -3 < 0 = -1"
      ]
    },
    {
      "cell_type": "markdown",
      "metadata": {
        "id": "xOJ18tfDLecV"
      },
      "source": [
        "## 1) Workout\n",
        "###y = w1x1 + w2x2 + b\n",
        "\n",
        "Initializing with\n",
        "\n",
        "####w1=0,w2=0,b=0\n",
        "\n",
        "w1(new) = w1(old) + x1y\n",
        "\n",
        "w2(new) = w2(old) + x2y\n",
        "\n",
        "b(new) = b(old) + y\n",
        "\n",
        "1 = 0 x 1 + 0 x -1 + 0\n",
        "\n",
        "w1 = 0 + 1* 1 = 1\n",
        "\n",
        "w2 = 0 + -1* 1 = -1\n",
        "\n",
        "b = 0 + 1 = 1\n",
        "\n",
        "| X1  | X2  | output | W1 | W2 | B |\n",
        "| --- | --- | ------ | -- | -- | - |\n",
        "| 1   | -1 | 1    |  1 | -1 | 1 |\n",
        "| -1  | 1  | 1    |   |   |  |\n",
        "| 1   | 1  | 1    |   |   |  |\n",
        "|-1   | -1 | -1   |   |  |   | "
      ]
    },
    {
      "cell_type": "markdown",
      "metadata": {
        "id": "6Q1u-eaqaRN3"
      },
      "source": [
        "###Row 2\n",
        "\n",
        "w1(new) = w1(old) + x1y\n",
        "\n",
        "w2(new) = w2(old) + x2y\n",
        "\n",
        "b(new) = b(old) + y\n",
        "\n",
        "1 = 1 x -1 + -1 x 1 + 1\n",
        "\n",
        "w1 = 1 + -1* 1 = 0\n",
        "\n",
        "w2 = -1 + 1* 1 = 0\n",
        "\n",
        "b = 1 + 1 = 2\n",
        "\n",
        "| X1  | X2  | output | W1 | W2 | B |\n",
        "| --- | --- | ------ | -- | -- | - |\n",
        "| 1   | -1 | 1    |  1 | -1 | 1 |\n",
        "| -1  | 1  | 1    |  0 |  0 | 2 |\n",
        "| 1   | 1  | 1    |   |   |  |\n",
        "|-1   | -1 | -1   |   |  |   | "
      ]
    },
    {
      "cell_type": "markdown",
      "metadata": {
        "id": "usIJEu2pa_Cq"
      },
      "source": [
        "###Row 3\n",
        "\n",
        "w1(new) = w1(old) + x1y\n",
        "\n",
        "w2(new) = w2(old) + x2y\n",
        "\n",
        "b(new) = b(old) + y\n",
        "\n",
        "1 = 0 x 1 + 0 x 1 + 2\n",
        "\n",
        "w1 = 0 + 1* 1 = 1\n",
        "\n",
        "w2 = 0 + 1* 1 = 1\n",
        "\n",
        "b = 1 + 2 = 3\n",
        "\n",
        "| X1  | X2  | output | W1 | W2 | B |\n",
        "| --- | --- | ------ | -- | -- | - |\n",
        "| 1   | -1 | 1    |  1 | -1 | 1 |\n",
        "| -1  | 1  | 1    |  0 |  0 | 2 |\n",
        "| 1   | 1  | 1    |  1 |  1 | 3 |\n",
        "|-1   | -1 | -1   |   |  |   | "
      ]
    },
    {
      "cell_type": "markdown",
      "metadata": {
        "id": "g8s4Ojenbn0t"
      },
      "source": [
        "###Row 4\n",
        "\n",
        "w1(new) = w1(old) + x1y\n",
        "\n",
        "w2(new) = w2(old) + x2y\n",
        "\n",
        "b(new) = b(old) + y\n",
        "\n",
        "-1 = 1 x -1 + 1 x -1 + 3\n",
        "\n",
        "w1 = 1 + -1* -1 = 2\n",
        "\n",
        "w2 = 1 + -1* -1 = 2\n",
        "\n",
        "b = 3 - 1 = 2\n",
        "\n",
        "| X1  | X2  | output | W1 | W2 | B |\n",
        "| --- | --- | ------ | -- | -- | - |\n",
        "| 1   | -1 | 1    |  1 | -1 | 1 |\n",
        "| -1  | 1  | 1    |  0 |  0 | 2 |\n",
        "| 1   | 1  | 1    |  1 |  1 | 3 |\n",
        "|-1   | -1 | -1   |  2 |  2 | 2 | "
      ]
    },
    {
      "cell_type": "markdown",
      "metadata": {
        "id": "8Gl9CAYYd3vG"
      },
      "source": [
        "#Testing for all conditions\n",
        "\n",
        "With weight 2, 2 and bias 2 \n",
        "\n",
        "y = w1x1 + w2x2 + b\n",
        "\n",
        "1  = 2*1 + 2*-1 + 2 = 2 > 0 = 1\n",
        "\n",
        "1 =  2*-1 + 2*1 + 2 = 2 > 0 = 1\n",
        "\n",
        "1 =  2*1 + 2* 1 + 2 = 6 > 0 = 1  \n",
        "\n",
        "-1 = 2*-1 + 2*-1 + 2 = -2 < 0 = -1\n",
        "\n",
        "So, We got the output (Y)."
      ]
    },
    {
      "cell_type": "markdown",
      "metadata": {
        "id": "GHJfremvgBfq"
      },
      "source": [
        "##2) Workout Changing (ROWS)\n",
        "###y = w1x1 + w2x2 + b\n",
        "\n",
        "Initializing with\n",
        "\n",
        "####w1=1,w2=1,b=1\n",
        "\n",
        "w1(new) = w1(old) + x1y\n",
        "\n",
        "w2(new) = w2(old) + x2y\n",
        "\n",
        "b(new) = b(old) + y\n",
        "\n",
        "-1 = 1 x -1 + 1 x -1 + 1\n",
        "\n",
        "w1 = 1 + -1* -1 = 2\n",
        "\n",
        "w2 = 1 + -1* -1 = 2\n",
        "\n",
        "b = 1 - 1 = 0\n",
        "\n",
        "| X1  | X2  | output | W1 | W2 | B |\n",
        "| --- | --- | ------ | -- | -- | - |\n",
        "| -1  | -1 | -1  |  2 | 2 | 0 |\n",
        "|  1  |  1 | 1   |   |   |  |\n",
        "| -1  |  1 | 1   |   |   |  |\n",
        "|  1  | -1 | 1   |   |   |  | "
      ]
    },
    {
      "cell_type": "markdown",
      "metadata": {
        "id": "g-pMdxLsjlNZ"
      },
      "source": [
        "###Row 2\n",
        "\n",
        "w1(new) = w1(old) + x1y\n",
        "\n",
        "w2(new) = w2(old) + x2y\n",
        "\n",
        "b(new) = b(old) + y\n",
        "\n",
        "1 = 2 x 1 + 2 x 1 + 0\n",
        "\n",
        "w1 = 2 + 1* 1 = 3\n",
        "\n",
        "w2 = 2 + 1* 1 = 3\n",
        "\n",
        "b = 0 + 1 = 1\n",
        "\n",
        "| X1  | X2  | output | W1 | W2 | B |\n",
        "| --- | --- | ------ | -- | -- | - |\n",
        "| -1  | -1 | -1  |  2 | 2 | 0 |\n",
        "|  1  |  1 | 1   |  3 | 3  | 1 |\n",
        "| -1  |  1 | 1   |   |   |  |\n",
        "|  1  | -1 | 1   |   |   |  | "
      ]
    },
    {
      "cell_type": "markdown",
      "metadata": {
        "id": "sTSEBAkgkCZV"
      },
      "source": [
        "###Row 3\n",
        "\n",
        "w1(new) = w1(old) + x1y\n",
        "\n",
        "w2(new) = w2(old) + x2y\n",
        "\n",
        "b(new) = b(old) + y\n",
        "\n",
        "1 = 3 x -1 + 3 x 1 + 1\n",
        "\n",
        "w1 = 3 + -1* 1 = 2\n",
        "\n",
        "w2 = 3 + 1* 1 = 4\n",
        "\n",
        "b = 1 + 1 = 2\n",
        "\n",
        "| X1  | X2  | output | W1 | W2 | B |\n",
        "| --- | --- | ------ | -- | -- | - |\n",
        "| -1  | -1 | -1  |  2 | 2 | 0 |\n",
        "|  1  |  1 | 1   |  3 | 3  | 1 |\n",
        "| -1  |  1 | 1   |  2 | 4  | 2 |\n",
        "|  1  | -1 | 1   |   |   |  | "
      ]
    },
    {
      "cell_type": "markdown",
      "metadata": {
        "id": "SUolmIu2kc-A"
      },
      "source": [
        "###Row 4\n",
        "\n",
        "w1(new) = w1(old) + x1y\n",
        "\n",
        "w2(new) = w2(old) + x2y\n",
        "\n",
        "b(new) = b(old) + y\n",
        "\n",
        "1 = 2 x 1 + 4 x -1 + 2\n",
        "\n",
        "w1 = 2 + 1* 1 = 3\n",
        "\n",
        "w2 = 4 + -1* 1 = 3\n",
        "\n",
        "b = 2 + 1 = 3\n",
        "\n",
        "| X1  | X2  | output | W1 | W2 | B |\n",
        "| --- | --- | ------ | -- | -- | - |\n",
        "| -1  | -1 | -1  |  2 | 2 | 0 |\n",
        "|  1  |  1 | 1   |  3 | 3  | 1 |\n",
        "| -1  |  1 | 1   |  2 | 4  | 2 |\n",
        "|  1  | -1 | 1   |  3 | 3  | 3 | "
      ]
    },
    {
      "cell_type": "markdown",
      "metadata": {
        "id": "5IhnVJJ5k65W"
      },
      "source": [
        "#Testing for all conditions\n",
        "\n",
        "With weight 3, 3 and bias 3 \n",
        "\n",
        "y = w1x1 + w2x2 + b\n",
        "\n",
        "-1  = 3*-1 + 3*-1 + 3 = -3 < 0 = -1\n",
        "\n",
        "1 =  3*1 + 3*1 + 3 = 9 > 0 = 1\n",
        "\n",
        "1 =  3*-1 + 3* 1 + 3 = 3 > 0 = 1  \n",
        "\n",
        "1 =  3*1 + 3*-1 + 3 = 3 > 0 = 1\n",
        "\n",
        "So, We got the output (Y)."
      ]
    }
  ]
}